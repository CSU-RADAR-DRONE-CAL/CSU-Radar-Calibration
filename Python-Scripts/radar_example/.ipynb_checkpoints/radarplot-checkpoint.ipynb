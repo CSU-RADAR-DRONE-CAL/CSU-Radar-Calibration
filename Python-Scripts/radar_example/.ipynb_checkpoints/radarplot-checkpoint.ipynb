{
 "cells": [
  {
   "cell_type": "code",
   "execution_count": 4,
   "metadata": {},
   "outputs": [],
   "source": [
    "import netCDF4\n",
    "import matplotlib.pyplot as plt\n",
    "import numpy as np\n",
    "from netCDF4 import Dataset\n",
    "import matplotlib.colors as colors\n",
    "from scipy.io import loadmat\n",
    "from os import listdir\n",
    "from os.path import isfile, join"
   ]
  },
  {
   "cell_type": "code",
   "execution_count": 1,
   "metadata": {},
   "outputs": [],
   "source": [
    "PATH = '/home/straydog/Documents/senior_design/netCDF_files/20191016/'"
   ]
  },
  {
   "cell_type": "code",
   "execution_count": 6,
   "metadata": {},
   "outputs": [
    {
     "data": {
      "text/plain": [
       "['cfrad.20191016_193104.520_to_20191016_193115.645_col-radar_DRONE_RHI_RHI.nc',\n",
       " 'cfrad.20191016_173210.480_to_20191016_173214.480_col-radar_DRONE_FIX_SUR.nc',\n",
       " 'cfrad.20191016_171409.440_to_20191016_171436.295_col-radar_SPHERE_SECTO_PPI.nc',\n",
       " 'cfrad.20191016_162711.964_to_20191016_162738.980_col-radar_SPHERE_SECTO_PPI.nc',\n",
       " 'cfrad.20191016_164316.806_to_20191016_164336.031_col-radar_DRONE_RHI_RHI.nc',\n",
       " 'cfrad.20191016_183122.269_to_20191016_183127.269_col-radar_DRONE_FIX_SUR.nc',\n",
       " 'cfrad.20191016_201305.573_to_20191016_201310.573_col-radar_DRONE_FIX_SUR.nc',\n",
       " 'cfrad.20191016_164933.502_to_20191016_165000.603_col-radar_DRONE_SECTOR_PPI.nc',\n",
       " 'cfrad.20191016_200905.657_to_20191016_200910.657_col-radar_DRONE_FIX_SUR.nc',\n",
       " 'cfrad.20191016_162610.399_to_20191016_162637.187_col-radar_SPHERE_SECTO_PPI.nc',\n",
       " 'cfrad.20191016_175817.402_to_20191016_175853.710_col-radar_DRONE_RHI_RHI.nc',\n",
       " 'cfrad.20191016_170149.899_to_20191016_170216.891_col-radar_DRONE_SECTOR_PPI.nc',\n",
       " 'cfrad.20191016_173218.761_to_20191016_173258.209_col-radar_DRONE_RHI_RHI.nc',\n",
       " 'cfrad.20191016_170118.736_to_20191016_170145.848_col-radar_DRONE_SECTOR_PPI.nc',\n",
       " 'cfrad.20191016_185819.101_to_20191016_185843.299_col-radar_DRONE_RHI_RHI.nc',\n",
       " 'cfrad.20191016_161137.993_to_20191016_161156.721_col-radar_DRONE_RHI_RHI.nc',\n",
       " 'cfrad.20191016_190637.465_to_20191016_190701.679_col-radar_DRONE_RHI_RHI.nc',\n",
       " 'cfrad.20191016_165130.916_to_20191016_165157.861_col-radar_DRONE_SECTOR_PPI.nc',\n",
       " 'cfrad.20191016_172241.769_to_20191016_172319.502_col-radar_DRONE_RHI_RHI.nc',\n",
       " 'cfrad.20191016_190741.176_to_20191016_190808.679_col-radar_DRONE_RHI_RHI.nc',\n",
       " 'cfrad.20191016_170721.561_to_20191016_170748.457_col-radar_SPHERE_SECTO_PPI.nc',\n",
       " 'cfrad.20191016_182406.135_to_20191016_182410.135_col-radar_DRONE_FIX_SUR.nc',\n",
       " 'cfrad.20191016_200015.426_to_20191016_200042.037_col-radar_DRONE_RHI_RHI.nc',\n",
       " 'cfrad.20191016_190126.256_to_20191016_190130.256_col-radar_DRONE_FIX_SUR.nc',\n",
       " 'cfrad.20191016_163708.660_to_20191016_163712.660_col-radar_DRONE_FIX_SUR.nc',\n",
       " 'cfrad.20191016_171543.106_to_20191016_171610.385_col-radar_SPHERE_SECTO_PPI.nc',\n",
       " 'cfrad.20191016_165243.557_to_20191016_165323.286_col-radar_DRONE_RHI_RHI.nc',\n",
       " 'cfrad.20191016_160718.550_to_20191016_160744.550_col-radar_DRONE_FIX_SUR.nc',\n",
       " 'cfrad.20191016_164048.340_to_20191016_164107.547_col-radar_DRONE_RHI_RHI.nc',\n",
       " 'cfrad.20191016_201411.177_to_20191016_201436.451_col-radar_DRONE_RHI_RHI.nc',\n",
       " 'cfrad.20191016_200929.211_to_20191016_200954.906_col-radar_DRONE_RHI_RHI.nc',\n",
       " 'cfrad.20191016_160516.908_to_20191016_160544.066_col-radar_SPHERE_SECTO_PPI.nc',\n",
       " 'cfrad.20191016_201439.059_to_20191016_201504.242_col-radar_DRONE_RHI_RHI.nc',\n",
       " 'cfrad.20191016_155605.582_to_20191016_155721.096_col-radar_DRONE_SURV_PPI.nc',\n",
       " 'cfrad.20191016_175033.001_to_20191016_175049.753_col-radar_DRONE_SECTOR_PPI.nc',\n",
       " 'cfrad.20191016_193326.336_to_20191016_193337.461_col-radar_DRONE_RHI_RHI.nc',\n",
       " 'cfrad.20191016_192310.745_to_20191016_192337.558_col-radar_SPHERE_SECTO_PPI.nc',\n",
       " 'cfrad.20191016_160858.798_to_20191016_160903.798_col-radar_DRONE_FIX_SUR.nc',\n",
       " 'cfrad.20191016_164902.446_to_20191016_164929.523_col-radar_DRONE_SECTOR_PPI.nc',\n",
       " 'cfrad.20191016_165058.065_to_20191016_165102.065_col-radar_DRONE_FIX_SUR.nc',\n",
       " 'cfrad.20191016_162922.056_to_20191016_163036.782_col-radar_DRONE_SURV_PPI.nc',\n",
       " 'cfrad.20191016_160555.079_to_20191016_160621.079_col-radar_DRONE_FIX_SUR.nc',\n",
       " 'cfrad.20191016_190018.015_to_20191016_190042.707_col-radar_DRONE_RHI_RHI.nc',\n",
       " 'cfrad.20191016_182531.706_to_20191016_182558.661_col-radar_SPHERE_SECTO_PPI.nc',\n",
       " 'cfrad.20191016_185936.892_to_20191016_185941.892_col-radar_DRONE_FIX_SUR.nc',\n",
       " 'cfrad.20191016_164339.809_to_20191016_164359.011_col-radar_DRONE_RHI_RHI.nc',\n",
       " 'cfrad.20191016_164002.378_to_20191016_164021.579_col-radar_DRONE_RHI_RHI.nc',\n",
       " 'cfrad.20191016_192933.830_to_20191016_192944.956_col-radar_DRONE_RHI_RHI.nc',\n",
       " 'cfrad.20191016_175113.926_to_20191016_175131.028_col-radar_DRONE_SECTOR_PPI.nc',\n",
       " 'cfrad.20191016_173407.554_to_20191016_173445.658_col-radar_DRONE_RHI_RHI.nc',\n",
       " 'cfrad.20191016_192859.889_to_20191016_192904.889_col-radar_DRONE_FIX_SUR.nc',\n",
       " 'cfrad.20191016_201602.746_to_20191016_201627.131_col-radar_DRONE_RHI_RHI.nc',\n",
       " 'cfrad.20191016_170752.522_to_20191016_170819.714_col-radar_SPHERE_SECTO_PPI.nc',\n",
       " 'cfrad.20191016_182249.891_to_20191016_182324.901_col-radar_DRONE_RHI_RHI.nc',\n",
       " 'cfrad.20191016_175053.745_to_20191016_175110.858_col-radar_DRONE_SECTOR_PPI.nc',\n",
       " 'cfrad.20191016_163938.972_to_20191016_163957.799_col-radar_DRONE_RHI_RHI.nc',\n",
       " 'cfrad.20191016_165203.663_to_20191016_165240.298_col-radar_DRONE_RHI_RHI.nc',\n",
       " 'cfrad.20191016_164158.023_to_20191016_164224.610_col-radar_DRONE_SECTOR_PPI.nc',\n",
       " 'cfrad.20191016_195738.032_to_20191016_195803.189_col-radar_DRONE_RHI_RHI.nc',\n",
       " 'cfrad.20191016_192920.922_to_20191016_192932.047_col-radar_DRONE_RHI_RHI.nc',\n",
       " 'cfrad.20191016_165421.884_to_20191016_165603.916_col-radar_DRONE_SURV_PPI.nc',\n",
       " 'cfrad.20191016_160117.848_to_20191016_160142.848_col-radar_DRONE_FIX_SUR.nc',\n",
       " 'cfrad.20191016_172322.764_to_20191016_172401.175_col-radar_DRONE_RHI_RHI.nc',\n",
       " 'cfrad.20191016_195837.350_to_20191016_195904.472_col-radar_SPHERE_SECTO_PPI.nc',\n",
       " 'cfrad.20191016_173024.604_to_20191016_173051.581_col-radar_DRONE_SECTOR_PPI.nc',\n",
       " 'cfrad.20191016_171031.018_to_20191016_171057.867_col-radar_SPHERE_SECTO_PPI.nc',\n",
       " 'cfrad.20191016_171101.894_to_20191016_171128.959_col-radar_SPHERE_SECTO_PPI.nc',\n",
       " 'cfrad.20191016_171133.979_to_20191016_171200.955_col-radar_SPHERE_SECTO_PPI.nc',\n",
       " 'cfrad.20191016_175947.818_to_20191016_180014.880_col-radar_SPHERE_SECTO_PPI.nc',\n",
       " 'cfrad.20191016_193339.218_to_20191016_193350.343_col-radar_DRONE_RHI_RHI.nc',\n",
       " 'cfrad.20191016_190209.800_to_20191016_190236.286_col-radar_DRONE_RHI_RHI.nc',\n",
       " 'cfrad.20191016_170253.884_to_20191016_170320.721_col-radar_SPHERE_SECTO_PPI.nc',\n",
       " 'cfrad.20191016_171204.929_to_20191016_171231.852_col-radar_SPHERE_SECTO_PPI.nc',\n",
       " 'cfrad.20191016_161110.521_to_20191016_161115.521_col-radar_DRONE_FIX_SUR.nc',\n",
       " 'cfrad.20191016_193352.141_to_20191016_193403.266_col-radar_DRONE_RHI_RHI.nc',\n",
       " 'cfrad.20191016_164832.413_to_20191016_164859.442_col-radar_DRONE_SECTOR_PPI.nc',\n",
       " 'cfrad.20191016_170823.689_to_20191016_170850.809_col-radar_SPHERE_SECTO_PPI.nc',\n",
       " 'cfrad.20191016_165107.130_to_20191016_165125.758_col-radar_DRONE_RHI_RHI.nc',\n",
       " 'cfrad.20191016_175744.459_to_20191016_175811.649_col-radar_SPHERE_SECTO_PPI.nc',\n",
       " 'cfrad.20191016_171000.022_to_20191016_171027.012_col-radar_SPHERE_SECTO_PPI.nc',\n",
       " 'cfrad.20191016_164110.977_to_20191016_164130.199_col-radar_DRONE_RHI_RHI.nc',\n",
       " 'cfrad.20191016_164024.734_to_20191016_164043.953_col-radar_DRONE_RHI_RHI.nc',\n",
       " 'cfrad.20191016_190330.620_to_20191016_190335.620_col-radar_DRONE_FIX_SUR.nc',\n",
       " 'cfrad.20191016_190708.882_to_20191016_190735.472_col-radar_SPHERE_SECTO_PPI.nc',\n",
       " 'cfrad.20191016_182415.655_to_20191016_182442.664_col-radar_SPHERE_SECTO_PPI.nc',\n",
       " 'cfrad.20191016_175135.009_to_20191016_175151.991_col-radar_DRONE_SECTOR_PPI.nc',\n",
       " 'cfrad.20191016_171440.255_to_20191016_171507.075_col-radar_SPHERE_SECTO_PPI.nc',\n",
       " 'cfrad.20191016_182448.305_to_20191016_182525.927_col-radar_DRONE_RHI_RHI.nc',\n",
       " 'cfrad.20191016_180020.365_to_20191016_180055.263_col-radar_DRONE_RHI_RHI.nc',\n",
       " 'cfrad.20191016_171511.981_to_20191016_171539.078_col-radar_SPHERE_SECTO_PPI.nc',\n",
       " 'cfrad.20191016_163041.520_to_20191016_163155.988_col-radar_DRONE_SURV_PPI.nc',\n",
       " 'cfrad.20191016_170016.444_to_20191016_170043.454_col-radar_DRONE_SECTOR_PPI.nc',\n",
       " 'cfrad.20191016_170855.747_to_20191016_170922.862_col-radar_SPHERE_SECTO_PPI.nc',\n",
       " 'cfrad.20191016_173345.020_to_20191016_173401.943_col-radar_DRONE_SECTOR_PPI.nc',\n",
       " 'cfrad.20191016_193313.374_to_20191016_193324.500_col-radar_DRONE_RHI_RHI.nc',\n",
       " 'cfrad.20191016_165607.672_to_20191016_165751.622_col-radar_DRONE_SURV_PPI.nc',\n",
       " 'cfrad.20191016_170047.418_to_20191016_170114.681_col-radar_DRONE_SECTOR_PPI.nc',\n",
       " 'cfrad.20191016_183213.147_to_20191016_183240.241_col-radar_SPHERE_SECTO_PPI.nc',\n",
       " 'cfrad.20191016_164244.228_to_20191016_164249.228_col-radar_DRONE_FIX_SUR.nc',\n",
       " 'cfrad.20191016_194647.792_to_20191016_194714.559_col-radar_SPHERE_SECTO_PPI.nc',\n",
       " 'cfrad.20191016_171235.926_to_20191016_171302.501_col-radar_SPHERE_SECTO_PPI.nc',\n",
       " 'cfrad.20191016_170221.949_to_20191016_170248.856_col-radar_SPHERE_SECTO_PPI.nc',\n",
       " 'cfrad.20191016_171305.526_to_20191016_171332.261_col-radar_SPHERE_SECTO_PPI.nc',\n",
       " 'cfrad.20191016_192959.673_to_20191016_193010.799_col-radar_DRONE_RHI_RHI.nc',\n",
       " 'cfrad.20191016_201630.682_to_20191016_201656.255_col-radar_DRONE_RHI_RHI.nc',\n",
       " 'cfrad.20191016_193228.332_to_20191016_193255.374_col-radar_SPHERE_SECTO_PPI.nc',\n",
       " 'cfrad.20191016_173057.185_to_20191016_173135.306_col-radar_DRONE_RHI_RHI.nc',\n",
       " 'cfrad.20191016_165756.615_to_20191016_165934.832_col-radar_DRONE_SURV_PPI.nc',\n",
       " 'cfrad.20191016_162641.111_to_20191016_162707.988_col-radar_SPHERE_SECTO_PPI.nc',\n",
       " 'cfrad.20191016_193143.365_to_20191016_193154.591_col-radar_DRONE_RHI_RHI.nc',\n",
       " 'cfrad.20191016_173301.679_to_20191016_173340.002_col-radar_DRONE_RHI_RHI.nc',\n",
       " 'cfrad.20191016_200047.624_to_20191016_200114.342_col-radar_SPHERE_SECTO_PPI.nc',\n",
       " 'cfrad.20191016_194617.662_to_20191016_194628.290_col-radar_DRONE_RHI_RHI.nc',\n",
       " 'cfrad.20191016_175722.461_to_20191016_175739.432_col-radar_DRONE_SECTOR_PPI.nc',\n",
       " 'cfrad.20191016_165945.464_to_20191016_170012.407_col-radar_DRONE_SECTOR_PPI.nc',\n",
       " 'cfrad.20191016_193117.456_to_20191016_193128.581_col-radar_DRONE_RHI_RHI.nc',\n",
       " 'cfrad.20191016_190137.476_to_20191016_190204.185_col-radar_SPHERE_SECTO_PPI.nc',\n",
       " 'cfrad.20191016_170927.952_to_20191016_170955.049_col-radar_SPHERE_SECTO_PPI.nc',\n",
       " 'cfrad.20191016_183130.983_to_20191016_183207.387_col-radar_DRONE_RHI_RHI.nc',\n",
       " 'cfrad.20191016_195910.043_to_20191016_195936.387_col-radar_DRONE_RHI_RHI.nc',\n",
       " 'cfrad.20191016_193300.927_to_20191016_193311.554_col-radar_DRONE_RHI_RHI.nc',\n",
       " 'cfrad.20191016_155847.554_to_20191016_160001.131_col-radar_DRONE_SURV_PPI.nc',\n",
       " 'cfrad.20191016_194630.118_to_20191016_194641.243_col-radar_DRONE_RHI_RHI.nc',\n",
       " 'cfrad.20191016_175157.550_to_20191016_175234.402_col-radar_DRONE_RHI_RHI.nc',\n",
       " 'cfrad.20191016_162846.002_to_20191016_162912.991_col-radar_DRONE_SECTOR_PPI.nc',\n",
       " 'cfrad.20191016_171337.323_to_20191016_171404.443_col-radar_SPHERE_SECTO_PPI.nc',\n",
       " 'cfrad.20191016_194720.209_to_20191016_194745.010_col-radar_DRONE_RHI_RHI.nc',\n",
       " 'cfrad.20191016_192343.229_to_20191016_192408.420_col-radar_DRONE_RHI_RHI.nc',\n",
       " 'cfrad.20191016_193130.402_to_20191016_193141.528_col-radar_DRONE_RHI_RHI.nc',\n",
       " 'cfrad.20191016_192946.752_to_20191016_192957.877_col-radar_DRONE_RHI_RHI.nc',\n",
       " 'cfrad.20191016_193025.636_to_20191016_193036.761_col-radar_DRONE_RHI_RHI.nc',\n",
       " 'cfrad.20191016_162742.911_to_20191016_162809.962_col-radar_SPHERE_SECTO_PPI.nc',\n",
       " 'cfrad.20191016_164253.443_to_20191016_164312.044_col-radar_DRONE_RHI_RHI.nc',\n",
       " 'cfrad.20191016_195728.550_to_20191016_195733.550_col-radar_DRONE_FIX_SUR.nc',\n",
       " 'cfrad.20191016_164133.478_to_20191016_164152.707_col-radar_DRONE_RHI_RHI.nc',\n",
       " 'cfrad.20191016_201343.056_to_20191016_201407.558_col-radar_DRONE_RHI_RHI.nc',\n",
       " 'cfrad.20191016_162814.981_to_20191016_162842.024_col-radar_DRONE_SECTOR_PPI.nc',\n",
       " 'cfrad.20191016_172209.284_to_20191016_172236.124_col-radar_SPHERE_SECTO_PPI.nc',\n",
       " 'cfrad.20191016_193012.675_to_20191016_193023.800_col-radar_DRONE_RHI_RHI.nc',\n",
       " 'cfrad.20191016_182211.198_to_20191016_182227.962_col-radar_DRONE_SECTOR_PPI.nc',\n",
       " 'cfrad.20191016_192908.432_to_20191016_192919.060_col-radar_DRONE_RHI_RHI.nc',\n",
       " 'cfrad.20191016_201933.472_to_20191016_202448.288_col-radar_REL_PFAR360_SUR.nc',\n",
       " 'cfrad.20191016_200219.045_to_20191016_200224.045_col-radar_DRONE_FIX_SUR.nc',\n",
       " 'cfrad.20191016_155727.031_to_20191016_155843.257_col-radar_DRONE_SURV_PPI.nc',\n",
       " 'cfrad.20191016_193038.557_to_20191016_193049.682_col-radar_DRONE_RHI_RHI.nc',\n",
       " 'cfrad.20191016_201534.943_to_20191016_201559.114_col-radar_DRONE_RHI_RHI.nc',\n",
       " 'cfrad.20191016_175936.373_to_20191016_175941.373_col-radar_DRONE_FIX_SUR.nc',\n",
       " 'cfrad.20191016_193156.489_to_20191016_193207.714_col-radar_DRONE_RHI_RHI.nc',\n",
       " 'cfrad.20191016_201506.860_to_20191016_201531.095_col-radar_DRONE_RHI_RHI.nc',\n",
       " 'cfrad.20191016_195806.753_to_20191016_195831.203_col-radar_DRONE_RHI_RHI.nc',\n",
       " 'cfrad.20191016_201314.834_to_20191016_201339.497_col-radar_DRONE_RHI_RHI.nc',\n",
       " 'cfrad.20191016_185946.273_to_20191016_190014.467_col-radar_DRONE_RHI_RHI.nc',\n",
       " 'cfrad.20191016_190628.501_to_20191016_190633.501_col-radar_DRONE_FIX_SUR.nc',\n",
       " 'cfrad.20191016_174949.716_to_20191016_175027.949_col-radar_DRONE_RHI_RHI.nc',\n",
       " 'cfrad.20191016_195942.555_to_20191016_200009.696_col-radar_SPHERE_SECTO_PPI.nc',\n",
       " 'cfrad.20191016_193209.650_to_20191016_193220.775_col-radar_DRONE_RHI_RHI.nc',\n",
       " 'cfrad.20191016_190339.583_to_20191016_190407.582_col-radar_DRONE_RHI_RHI.nc',\n",
       " 'cfrad.20191016_193051.598_to_20191016_193102.724_col-radar_DRONE_RHI_RHI.nc']"
      ]
     },
     "execution_count": 6,
     "metadata": {},
     "output_type": "execute_result"
    }
   ],
   "source": [
    "filearr = [f for f in listdir(PATH) if isfile(join(PATH, f))]\n",
    "filearr"
   ]
  },
  {
   "cell_type": "code",
   "execution_count": 78,
   "metadata": {},
   "outputs": [
    {
     "data": {
      "text/plain": [
       "<class 'netCDF4._netCDF4.Dataset'>\n",
       "root group (NETCDF4 data model, file format HDF5):\n",
       "    Conventions: CF-1.6\n",
       "    Sub_conventions: CF-Radial instrument_parameters radar_parameters radar_calibration\n",
       "    version: CF-Radial-1.3\n",
       "    title: ALLPRODS\n",
       "    institution: \n",
       "    references: Conversion software: Radx::SigmetRadxFile\n",
       "    source: Sigmet IRIS software\n",
       "    history: Sigmet RAW file: \n",
       "    comment: \n",
       "    original_format: SIGMETRAW\n",
       "    driver: RadxConvert(NCAR)\n",
       "    created: 2019/10/28 21:33:43.213\n",
       "    start_datetime: 2019-10-16T17:22:09Z\n",
       "    time_coverage_start: 2019-10-16T17:22:09Z\n",
       "    start_time: 2019-10-16 17:22:09.284\n",
       "    end_datetime: 2019-10-16T17:22:36Z\n",
       "    time_coverage_end: 2019-10-16T17:22:36Z\n",
       "    end_time: 2019-10-16 17:22:36.124\n",
       "    instrument_name: col-radar\n",
       "    site_name: col-radar\n",
       "    scan_name: SPHERE_SECTO\n",
       "    scan_id: 0\n",
       "    platform_is_mobile: false\n",
       "    n_gates_vary: false\n",
       "    ray_times_increase: true\n",
       "    dimensions(sizes): time(246), range(199), sweep(6), string_length_8(8), string_length_32(32), status_xml_length(1), r_calib(1), frequency(1)\n",
       "    variables(dimensions): int32 volume_number(), |S1 platform_type(string_length_32), |S1 primary_axis(string_length_32), |S1 status_xml(status_xml_length), |S1 instrument_type(string_length_32), float32 radar_antenna_gain_h(), float32 radar_antenna_gain_v(), float32 radar_beam_width_h(), float32 radar_beam_width_v(), float32 radar_rx_bandwidth(), |S1 time_coverage_start(string_length_32), |S1 time_coverage_end(string_length_32), float32 frequency(frequency), int32 grid_mapping(), float64 latitude(), float64 longitude(), float64 altitude(), float64 altitude_agl(), int32 sweep_number(sweep), |S1 sweep_mode(sweep,string_length_32), |S1 polarization_mode(sweep,string_length_32), |S1 prt_mode(sweep,string_length_32), |S1 follow_mode(sweep,string_length_32), float32 fixed_angle(sweep), float32 target_scan_rate(sweep), int32 sweep_start_ray_index(sweep), int32 sweep_end_ray_index(sweep), |S1 rays_are_indexed(sweep,string_length_8), float32 ray_angle_res(sweep), |S1 r_calib_time(r_calib,string_length_32), float32 r_calib_pulse_width(r_calib), float32 r_calib_xmit_power_h(r_calib), float32 r_calib_xmit_power_v(r_calib), float32 r_calib_two_way_waveguide_loss_h(r_calib), float32 r_calib_two_way_waveguide_loss_v(r_calib), float32 r_calib_two_way_radome_loss_h(r_calib), float32 r_calib_two_way_radome_loss_v(r_calib), float32 r_calib_receiver_mismatch_loss(r_calib), float32 r_calib_radar_constant_h(r_calib), float32 r_calib_radar_constant_v(r_calib), float32 r_calib_antenna_gain_h(r_calib), float32 r_calib_antenna_gain_v(r_calib), float32 r_calib_noise_hc(r_calib), float32 r_calib_noise_vc(r_calib), float32 r_calib_noise_hx(r_calib), float32 r_calib_noise_vx(r_calib), float32 r_calib_receiver_gain_hc(r_calib), float32 r_calib_receiver_gain_vc(r_calib), float32 r_calib_receiver_gain_hx(r_calib), float32 r_calib_receiver_gain_vx(r_calib), float32 r_calib_base_dbz_1km_hc(r_calib), float32 r_calib_base_dbz_1km_vc(r_calib), float32 r_calib_base_dbz_1km_hx(r_calib), float32 r_calib_base_dbz_1km_vx(r_calib), float32 r_calib_sun_power_hc(r_calib), float32 r_calib_sun_power_vc(r_calib), float32 r_calib_sun_power_hx(r_calib), float32 r_calib_sun_power_vx(r_calib), float32 r_calib_noise_source_power_h(r_calib), float32 r_calib_noise_source_power_v(r_calib), float32 r_calib_power_measure_loss_h(r_calib), float32 r_calib_power_measure_loss_v(r_calib), float32 r_calib_coupler_forward_loss_h(r_calib), float32 r_calib_coupler_forward_loss_v(r_calib), float32 r_calib_dbz_correction(r_calib), float32 r_calib_zdr_correction(r_calib), float32 r_calib_ldr_correction_h(r_calib), float32 r_calib_ldr_correction_v(r_calib), float32 r_calib_system_phidp(r_calib), float32 r_calib_test_power_h(r_calib), float32 r_calib_test_power_v(r_calib), float32 r_calib_receiver_slope_hc(r_calib), float32 r_calib_receiver_slope_vc(r_calib), float32 r_calib_receiver_slope_hx(r_calib), float32 r_calib_receiver_slope_vx(r_calib), float64 time(time), float32 range(range), float32 ray_start_range(time), float32 ray_gate_spacing(time), float32 azimuth(time), float32 elevation(time), float32 pulse_width(time), float32 prt(time), float32 prt_ratio(time), float32 nyquist_velocity(time), float32 unambiguous_range(time), int8 antenna_transition(time), int32 n_samples(time), int32 r_calib_index(time), float32 measured_transmit_power_h(time), float32 measured_transmit_power_v(time), float32 scan_rate(time), int16 DBZ_TOT(time,range), int16 DBZ(time,range), int16 VEL(time,range), int16 WIDTH(time,range), int16 ZDR(time,range), int16 KDP(time,range), int16 RHOHV(time,range), int16 SQI(time,range), int16 PHIDP(time,range), int16 UNKNOWN_ID_56(time,range), int16 SNR(time,range)\n",
       "    groups: "
      ]
     },
     "execution_count": 78,
     "metadata": {},
     "output_type": "execute_result"
    }
   ],
   "source": [
    "cmap_arr = loadmat('/home/straydog/Documents/senior_design/python_scripts/nws.mat')['nwsZ']\n",
    "clrs = colors.ListedColormap(cmap_arr, 'reflectivity')\n",
    "fh = Dataset('/home/straydog/Documents/senior_design/netCDF_files/20191016/cfrad.20191016_172209.284_to_20191016_172236.124_col-radar_SPHERE_SECTO_PPI.nc')\n",
    "fh"
   ]
  },
  {
   "cell_type": "code",
   "execution_count": 71,
   "metadata": {},
   "outputs": [],
   "source": [
    "dim = fh.dimensions\n",
    "var = fh.variables"
   ]
  },
  {
   "cell_type": "code",
   "execution_count": 85,
   "metadata": {},
   "outputs": [],
   "source": [
    "#var['azimuth'][:]\n",
    "#var['measured_transmit_power_h'][:]"
   ]
  },
  {
   "cell_type": "code",
   "execution_count": 60,
   "metadata": {},
   "outputs": [],
   "source": [
    "matplotlib inline"
   ]
  },
  {
   "cell_type": "code",
   "execution_count": 84,
   "metadata": {},
   "outputs": [
    {
     "data": {
      "text/plain": [
       "<matplotlib.collections.QuadMesh at 0x7f9954890590>"
      ]
     },
     "execution_count": 84,
     "metadata": {},
     "output_type": "execute_result"
    },
    {
     "data": {
      "image/png": "[encoded data removed]",
      "text/plain": [
       "<Figure size 432x288 with 1 Axes>"
      ]
     },
     "metadata": {
      "needs_background": "light"
     },
     "output_type": "display_data"
    }
   ],
   "source": [
    "rgate = var['range'][1]-var['range'][0]\n",
    "ndX = rgate*np.arange(len(var['range']))/1000\n",
    "ndY = var['azimuth'][:]\n",
    "ndY = np.reshape(ndY,(len(var['azimuth']),1))*(np.pi/180)\n",
    "nX = ndX*np.cos(ndY)\n",
    "nY = ndX*np.sin(ndY)\n",
    "rflct = var['ZDR']\n",
    "plt.pcolormesh(nY, nX, rflct, vmin = -20, vmax = 64, cmap = clrs)"
   ]
  }
 ],
 "metadata": {
  "kernelspec": {
   "display_name": "Python 3",
   "language": "python",
   "name": "python3"
  },
  "language_info": {
   "codemirror_mode": {
    "name": "ipython",
    "version": 3
   },
   "file_extension": ".py",
   "mimetype": "text/x-python",
   "name": "python",
   "nbconvert_exporter": "python",
   "pygments_lexer": "ipython3",
   "version": "3.7.4"
  }
 },
 "nbformat": 4,
 "nbformat_minor": 2
}
