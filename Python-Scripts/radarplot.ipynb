{
 "cells": [
  {
   "cell_type": "code",
   "execution_count": 1,
   "metadata": {},
   "outputs": [],
   "source": [
    "import netCDF4\n",
    "import matplotlib.pyplot as plt\n",
    "import numpy as np\n",
    "from netCDF4 import Dataset\n",
    "import matplotlib.colors as colors\n",
    "from scipy.io import loadmat\n",
    "from os import listdir\n",
    "from os.path import isfile, join"
   ]
  },
  {
   "cell_type": "code",
   "execution_count": 2,
   "metadata": {},
   "outputs": [],
   "source": [
    "PATH = '/home/straydog/Documents/senior_design/netCDF_files/20191016/'"
   ]
  },
  {
   "cell_type": "code",
   "execution_count": 20,
   "metadata": {},
   "outputs": [
    {
     "data": {
      "text/plain": [
       "['cfrad.20191016_201933.472_to_20191016_202448.288_col-radar_REL_PFAR360_SUR.nc']"
      ]
     },
     "execution_count": 20,
     "metadata": {},
     "output_type": "execute_result"
    }
   ],
   "source": [
    "filearr = [f for f in listdir(PATH) if isfile(join(PATH, f))]\n",
    "filearr"
   ]
  },
  {
   "cell_type": "code",
   "execution_count": 21,
   "metadata": {},
   "outputs": [
    {
     "data": {
      "text/plain": [
       "<class 'netCDF4._netCDF4.Dataset'>\n",
       "root group (NETCDF4 data model, file format HDF5):\n",
       "    Conventions: CF-1.6\n",
       "    Sub_conventions: CF-Radial instrument_parameters radar_parameters radar_calibration\n",
       "    version: CF-Radial-1.3\n",
       "    title: ALLPRODS\n",
       "    institution: \n",
       "    references: Conversion software: Radx::SigmetRadxFile\n",
       "    source: Sigmet IRIS software\n",
       "    history: Sigmet RAW file: \n",
       "    comment: \n",
       "    original_format: SIGMETRAW\n",
       "    driver: RadxConvert(NCAR)\n",
       "    created: 2019/10/28 21:35:41.370\n",
       "    start_datetime: 2019-10-16T20:19:33Z\n",
       "    time_coverage_start: 2019-10-16T20:19:33Z\n",
       "    start_time: 2019-10-16 20:19:33.472\n",
       "    end_datetime: 2019-10-16T20:24:48Z\n",
       "    time_coverage_end: 2019-10-16T20:24:48Z\n",
       "    end_time: 2019-10-16 20:24:48.288\n",
       "    instrument_name: col-radar\n",
       "    site_name: col-radar\n",
       "    scan_name: REL_PFAR360\n",
       "    scan_id: 0\n",
       "    platform_is_mobile: false\n",
       "    n_gates_vary: true\n",
       "    ray_times_increase: true\n",
       "    dimensions(sizes): time(5760), range(993), n_points(4850280), sweep(16), string_length_8(8), string_length_32(32), status_xml_length(1), r_calib(1), frequency(1)\n",
       "    variables(dimensions): int32 volume_number(), |S1 platform_type(string_length_32), |S1 primary_axis(string_length_32), |S1 status_xml(status_xml_length), |S1 instrument_type(string_length_32), float32 radar_antenna_gain_h(), float32 radar_antenna_gain_v(), float32 radar_beam_width_h(), float32 radar_beam_width_v(), float32 radar_rx_bandwidth(), |S1 time_coverage_start(string_length_32), |S1 time_coverage_end(string_length_32), float32 frequency(frequency), int32 grid_mapping(), float64 latitude(), float64 longitude(), float64 altitude(), float64 altitude_agl(), int32 sweep_number(sweep), |S1 sweep_mode(sweep,string_length_32), |S1 polarization_mode(sweep,string_length_32), |S1 prt_mode(sweep,string_length_32), |S1 follow_mode(sweep,string_length_32), float32 fixed_angle(sweep), float32 target_scan_rate(sweep), int32 sweep_start_ray_index(sweep), int32 sweep_end_ray_index(sweep), |S1 rays_are_indexed(sweep,string_length_8), float32 ray_angle_res(sweep), |S1 r_calib_time(r_calib,string_length_32), float32 r_calib_pulse_width(r_calib), float32 r_calib_xmit_power_h(r_calib), float32 r_calib_xmit_power_v(r_calib), float32 r_calib_two_way_waveguide_loss_h(r_calib), float32 r_calib_two_way_waveguide_loss_v(r_calib), float32 r_calib_two_way_radome_loss_h(r_calib), float32 r_calib_two_way_radome_loss_v(r_calib), float32 r_calib_receiver_mismatch_loss(r_calib), float32 r_calib_radar_constant_h(r_calib), float32 r_calib_radar_constant_v(r_calib), float32 r_calib_antenna_gain_h(r_calib), float32 r_calib_antenna_gain_v(r_calib), float32 r_calib_noise_hc(r_calib), float32 r_calib_noise_vc(r_calib), float32 r_calib_noise_hx(r_calib), float32 r_calib_noise_vx(r_calib), float32 r_calib_receiver_gain_hc(r_calib), float32 r_calib_receiver_gain_vc(r_calib), float32 r_calib_receiver_gain_hx(r_calib), float32 r_calib_receiver_gain_vx(r_calib), float32 r_calib_base_dbz_1km_hc(r_calib), float32 r_calib_base_dbz_1km_vc(r_calib), float32 r_calib_base_dbz_1km_hx(r_calib), float32 r_calib_base_dbz_1km_vx(r_calib), float32 r_calib_sun_power_hc(r_calib), float32 r_calib_sun_power_vc(r_calib), float32 r_calib_sun_power_hx(r_calib), float32 r_calib_sun_power_vx(r_calib), float32 r_calib_noise_source_power_h(r_calib), float32 r_calib_noise_source_power_v(r_calib), float32 r_calib_power_measure_loss_h(r_calib), float32 r_calib_power_measure_loss_v(r_calib), float32 r_calib_coupler_forward_loss_h(r_calib), float32 r_calib_coupler_forward_loss_v(r_calib), float32 r_calib_dbz_correction(r_calib), float32 r_calib_zdr_correction(r_calib), float32 r_calib_ldr_correction_h(r_calib), float32 r_calib_ldr_correction_v(r_calib), float32 r_calib_system_phidp(r_calib), float32 r_calib_test_power_h(r_calib), float32 r_calib_test_power_v(r_calib), float32 r_calib_receiver_slope_hc(r_calib), float32 r_calib_receiver_slope_vc(r_calib), float32 r_calib_receiver_slope_hx(r_calib), float32 r_calib_receiver_slope_vx(r_calib), float64 time(time), float32 range(range), int32 ray_n_gates(time), int32 ray_start_index(time), float32 ray_start_range(time), float32 ray_gate_spacing(time), float32 azimuth(time), float32 elevation(time), float32 pulse_width(time), float32 prt(time), float32 prt_ratio(time), float32 nyquist_velocity(time), float32 unambiguous_range(time), int8 antenna_transition(time), int32 n_samples(time), int32 r_calib_index(time), float32 measured_transmit_power_h(time), float32 measured_transmit_power_v(time), float32 scan_rate(time), int16 DBZ_TOT(n_points), int16 DBZ(n_points), int16 VEL(n_points), int16 WIDTH(n_points), int16 ZDR(n_points), int16 KDP(n_points), int16 RHOHV(n_points), int16 SQI(n_points), int16 PHIDP(n_points), int16 UNKNOWN_ID_56(n_points), int16 SNR(n_points)\n",
       "    groups: "
      ]
     },
     "execution_count": 21,
     "metadata": {},
     "output_type": "execute_result"
    }
   ],
   "source": [
    "cmap_arr = loadmat('/home/straydog/Documents/senior_design/python_scripts/nws.mat')['nwsZ']\n",
    "clrs = colors.ListedColormap(cmap_arr, 'reflectivity')\n",
    "fh = Dataset('/home/straydog/Documents/senior_design/netCDF_files/20191016/cfrad.20191016_201933.472_to_20191016_202448.288_col-radar_REL_PFAR360_SUR.nc')\n",
    "fh"
   ]
  },
  {
   "cell_type": "code",
   "execution_count": 5,
   "metadata": {},
   "outputs": [],
   "source": [
    "dim = fh.dimensions\n",
    "var = fh.variables"
   ]
  },
  {
   "cell_type": "code",
   "execution_count": 19,
   "metadata": {},
   "outputs": [
    {
     "data": {
      "text/plain": [
       "<class 'netCDF4._netCDF4.Variable'>\n",
       "int8 antenna_transition(time)\n",
       "    long_name: antenna_is_in_transition_between_sweeps\n",
       "    units: \n",
       "    _FillValue: -128\n",
       "    comment: 1 if antenna is in transition, 0 otherwise\n",
       "unlimited dimensions: \n",
       "current shape = (246,)\n",
       "filling on"
      ]
     },
     "execution_count": 19,
     "metadata": {},
     "output_type": "execute_result"
    }
   ],
   "source": [
    "#var['elevation']\n",
    "var['antenna_transition']"
   ]
  },
  {
   "cell_type": "code",
   "execution_count": 7,
   "metadata": {},
   "outputs": [],
   "source": [
    "matplotlib inline"
   ]
  },
  {
   "cell_type": "code",
   "execution_count": 16,
   "metadata": {},
   "outputs": [
    {
     "data": {
      "text/plain": [
       "(-1, 1)"
      ]
     },
     "execution_count": 16,
     "metadata": {},
     "output_type": "execute_result"
    },
    {
     "data": {
      "image/png": "[encoded data removed]",
      "text/plain": [
       "<Figure size 432x288 with 1 Axes>"
      ]
     },
     "metadata": {
      "needs_background": "light"
     },
     "output_type": "display_data"
    }
   ],
   "source": [
    "rgate = var['range'][1]-var['range'][0]\n",
    "ndX = rgate*np.arange(len(var['range']))/1000\n",
    "ndY = var['azimuth']\n",
    "\n",
    "ndY = np.reshape(ndY,(len(var['azimuth']),1))*(np.pi/180)\n",
    "nX = ndX*np.cos(ndY)\n",
    "nY = ndX*np.sin(ndY)\n",
    "rflct = var['SNR']\n",
    "plt.pcolormesh(nY, nX, rflct, vmin = -20, vmax = 64, cmap = clrs)\n",
    "plt.ylim(0,1)\n",
    "plt.xlim(-1,1)"
   ]
  },
  {
   "cell_type": "code",
   "execution_count": null,
   "metadata": {},
   "outputs": [],
   "source": []
  },
  {
   "cell_type": "code",
   "execution_count": null,
   "metadata": {},
   "outputs": [],
   "source": []
  },
  {
   "cell_type": "code",
   "execution_count": null,
   "metadata": {},
   "outputs": [],
   "source": []
  },
  {
   "cell_type": "code",
   "execution_count": null,
   "metadata": {},
   "outputs": [],
   "source": []
  },
  {
   "cell_type": "code",
   "execution_count": null,
   "metadata": {},
   "outputs": [],
   "source": []
  }
 ],
 "metadata": {
  "kernelspec": {
   "display_name": "Python 3",
   "language": "python",
   "name": "python3"
  },
  "language_info": {
   "codemirror_mode": {
    "name": "ipython",
    "version": 3
   },
   "file_extension": ".py",
   "mimetype": "text/x-python",
   "name": "python",
   "nbconvert_exporter": "python",
   "pygments_lexer": "ipython3",
   "version": "3.7.4"
  }
 },
 "nbformat": 4,
 "nbformat_minor": 2
}
